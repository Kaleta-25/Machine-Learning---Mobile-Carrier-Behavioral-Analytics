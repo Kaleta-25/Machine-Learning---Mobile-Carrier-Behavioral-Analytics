{
 "cells": [
  {
   "cell_type": "markdown",
   "metadata": {},
   "source": [
    "# Data Sciece Intro to Machine Learning Project"
   ]
  },
  {
   "cell_type": "code",
   "execution_count": 1,
   "metadata": {},
   "outputs": [],
   "source": [
    "import pandas as pd\n",
    "from sklearn.model_selection import train_test_split\n",
    "from sklearn.ensemble import RandomForestClassifier\n",
    "from sklearn.tree import DecisionTreeClassifier\n",
    "from sklearn.linear_model import LogisticRegression\n",
    "from sklearn.metrics import mean_squared_error, r2_score\n",
    "from sklearn.metrics import accuracy_score"
   ]
  },
  {
   "cell_type": "code",
   "execution_count": 2,
   "metadata": {},
   "outputs": [
    {
     "name": "stdout",
     "output_type": "stream",
     "text": [
      "    calls  minutes  messages   mb_used  is_ultra\n",
      "0    40.0   311.90      83.0  19915.42         0\n",
      "1    85.0   516.75      56.0  22696.96         0\n",
      "2    77.0   467.66      86.0  21060.45         0\n",
      "3   106.0   745.53      81.0   8437.39         1\n",
      "4    66.0   418.74       1.0  14502.75         0\n",
      "5    58.0   344.56      21.0  15823.37         0\n",
      "6    57.0   431.64      20.0   3738.90         1\n",
      "7    15.0   132.40       6.0  21911.60         0\n",
      "8     7.0    43.39       3.0   2538.67         1\n",
      "9    90.0   665.41      38.0  17358.61         0\n",
      "10   82.0   560.51      20.0   9619.53         1\n",
      "11   45.0   344.32      13.0  19898.81         0\n",
      "12   51.0   437.13      61.0  21523.58         0\n",
      "13   56.0   433.07      16.0  16702.36         0\n",
      "14  108.0   587.90       0.0  14406.50         1\n",
      "15    6.0    22.13       0.0   2710.09         0\n",
      "16    2.0    18.73       0.0    588.89         0\n",
      "17   26.0   163.62       4.0  16870.34         0\n",
      "18   79.0   532.62      90.0  19908.31         0\n",
      "19   49.0   341.67      81.0  11770.28         1\n"
     ]
    }
   ],
   "source": [
    "file_path = r\"C:/Users/kevin/datasets/users_behavior.csv\"\n",
    "df = pd.read_csv(file_path)\n",
    "print(df.head(20))"
   ]
  },
  {
   "cell_type": "code",
   "execution_count": 3,
   "metadata": {},
   "outputs": [
    {
     "data": {
      "text/plain": [
       "(3214, 5)"
      ]
     },
     "execution_count": 3,
     "metadata": {},
     "output_type": "execute_result"
    }
   ],
   "source": [
    "df.shape"
   ]
  },
  {
   "cell_type": "markdown",
   "metadata": {},
   "source": [
    "## Preprocessing "
   ]
  },
  {
   "cell_type": "code",
   "execution_count": 4,
   "metadata": {},
   "outputs": [
    {
     "name": "stdout",
     "output_type": "stream",
     "text": [
      "<class 'pandas.core.frame.DataFrame'>\n",
      "RangeIndex: 3214 entries, 0 to 3213\n",
      "Data columns (total 5 columns):\n",
      " #   Column    Non-Null Count  Dtype  \n",
      "---  ------    --------------  -----  \n",
      " 0   calls     3214 non-null   float64\n",
      " 1   minutes   3214 non-null   float64\n",
      " 2   messages  3214 non-null   float64\n",
      " 3   mb_used   3214 non-null   float64\n",
      " 4   is_ultra  3214 non-null   int64  \n",
      "dtypes: float64(4), int64(1)\n",
      "memory usage: 125.7 KB\n"
     ]
    }
   ],
   "source": [
    "df.info()"
   ]
  },
  {
   "cell_type": "code",
   "execution_count": 5,
   "metadata": {},
   "outputs": [],
   "source": [
    "df['calls'] = df['calls'].astype(int)\n",
    "df['messages'] = df['messages'].astype(int)"
   ]
  },
  {
   "cell_type": "code",
   "execution_count": 6,
   "metadata": {},
   "outputs": [
    {
     "data": {
      "text/plain": [
       "calls       0\n",
       "minutes     0\n",
       "messages    0\n",
       "mb_used     0\n",
       "is_ultra    0\n",
       "dtype: int64"
      ]
     },
     "execution_count": 6,
     "metadata": {},
     "output_type": "execute_result"
    }
   ],
   "source": [
    "df.isna().sum()"
   ]
  },
  {
   "cell_type": "code",
   "execution_count": 7,
   "metadata": {},
   "outputs": [
    {
     "data": {
      "text/html": [
       "<div>\n",
       "<style scoped>\n",
       "    .dataframe tbody tr th:only-of-type {\n",
       "        vertical-align: middle;\n",
       "    }\n",
       "\n",
       "    .dataframe tbody tr th {\n",
       "        vertical-align: top;\n",
       "    }\n",
       "\n",
       "    .dataframe thead th {\n",
       "        text-align: right;\n",
       "    }\n",
       "</style>\n",
       "<table border=\"1\" class=\"dataframe\">\n",
       "  <thead>\n",
       "    <tr style=\"text-align: right;\">\n",
       "      <th></th>\n",
       "      <th>calls</th>\n",
       "      <th>minutes</th>\n",
       "      <th>messages</th>\n",
       "      <th>mb_used</th>\n",
       "      <th>is_ultra</th>\n",
       "    </tr>\n",
       "  </thead>\n",
       "  <tbody>\n",
       "  </tbody>\n",
       "</table>\n",
       "</div>"
      ],
      "text/plain": [
       "Empty DataFrame\n",
       "Columns: [calls, minutes, messages, mb_used, is_ultra]\n",
       "Index: []"
      ]
     },
     "execution_count": 7,
     "metadata": {},
     "output_type": "execute_result"
    }
   ],
   "source": [
    "duplicate = df[df.duplicated()]\n",
    "duplicate"
   ]
  },
  {
   "cell_type": "markdown",
   "metadata": {},
   "source": [
    "There are no missing values or duplicates in our data. In machine learning, we can't pass any missing values to our model. The dataset columns messages and minutes have been changed to intergers since all data within those columns are integers. "
   ]
  },
  {
   "cell_type": "markdown",
   "metadata": {},
   "source": [
    "# Machine Learning "
   ]
  },
  {
   "cell_type": "code",
   "execution_count": 8,
   "metadata": {},
   "outputs": [],
   "source": [
    "features = df.drop(['is_ultra'], axis=1)\n",
    "target = df['is_ultra']"
   ]
  },
  {
   "cell_type": "code",
   "execution_count": 9,
   "metadata": {},
   "outputs": [
    {
     "data": {
      "text/html": [
       "<div>\n",
       "<style scoped>\n",
       "    .dataframe tbody tr th:only-of-type {\n",
       "        vertical-align: middle;\n",
       "    }\n",
       "\n",
       "    .dataframe tbody tr th {\n",
       "        vertical-align: top;\n",
       "    }\n",
       "\n",
       "    .dataframe thead th {\n",
       "        text-align: right;\n",
       "    }\n",
       "</style>\n",
       "<table border=\"1\" class=\"dataframe\">\n",
       "  <thead>\n",
       "    <tr style=\"text-align: right;\">\n",
       "      <th></th>\n",
       "      <th>calls</th>\n",
       "      <th>minutes</th>\n",
       "      <th>messages</th>\n",
       "      <th>mb_used</th>\n",
       "    </tr>\n",
       "  </thead>\n",
       "  <tbody>\n",
       "    <tr>\n",
       "      <th>0</th>\n",
       "      <td>40</td>\n",
       "      <td>311.90</td>\n",
       "      <td>83</td>\n",
       "      <td>19915.42</td>\n",
       "    </tr>\n",
       "    <tr>\n",
       "      <th>1</th>\n",
       "      <td>85</td>\n",
       "      <td>516.75</td>\n",
       "      <td>56</td>\n",
       "      <td>22696.96</td>\n",
       "    </tr>\n",
       "    <tr>\n",
       "      <th>2</th>\n",
       "      <td>77</td>\n",
       "      <td>467.66</td>\n",
       "      <td>86</td>\n",
       "      <td>21060.45</td>\n",
       "    </tr>\n",
       "    <tr>\n",
       "      <th>3</th>\n",
       "      <td>106</td>\n",
       "      <td>745.53</td>\n",
       "      <td>81</td>\n",
       "      <td>8437.39</td>\n",
       "    </tr>\n",
       "    <tr>\n",
       "      <th>4</th>\n",
       "      <td>66</td>\n",
       "      <td>418.74</td>\n",
       "      <td>1</td>\n",
       "      <td>14502.75</td>\n",
       "    </tr>\n",
       "    <tr>\n",
       "      <th>...</th>\n",
       "      <td>...</td>\n",
       "      <td>...</td>\n",
       "      <td>...</td>\n",
       "      <td>...</td>\n",
       "    </tr>\n",
       "    <tr>\n",
       "      <th>3209</th>\n",
       "      <td>122</td>\n",
       "      <td>910.98</td>\n",
       "      <td>20</td>\n",
       "      <td>35124.90</td>\n",
       "    </tr>\n",
       "    <tr>\n",
       "      <th>3210</th>\n",
       "      <td>25</td>\n",
       "      <td>190.36</td>\n",
       "      <td>0</td>\n",
       "      <td>3275.61</td>\n",
       "    </tr>\n",
       "    <tr>\n",
       "      <th>3211</th>\n",
       "      <td>97</td>\n",
       "      <td>634.44</td>\n",
       "      <td>70</td>\n",
       "      <td>13974.06</td>\n",
       "    </tr>\n",
       "    <tr>\n",
       "      <th>3212</th>\n",
       "      <td>64</td>\n",
       "      <td>462.32</td>\n",
       "      <td>90</td>\n",
       "      <td>31239.78</td>\n",
       "    </tr>\n",
       "    <tr>\n",
       "      <th>3213</th>\n",
       "      <td>80</td>\n",
       "      <td>566.09</td>\n",
       "      <td>6</td>\n",
       "      <td>29480.52</td>\n",
       "    </tr>\n",
       "  </tbody>\n",
       "</table>\n",
       "<p>3214 rows × 4 columns</p>\n",
       "</div>"
      ],
      "text/plain": [
       "      calls  minutes  messages   mb_used\n",
       "0        40   311.90        83  19915.42\n",
       "1        85   516.75        56  22696.96\n",
       "2        77   467.66        86  21060.45\n",
       "3       106   745.53        81   8437.39\n",
       "4        66   418.74         1  14502.75\n",
       "...     ...      ...       ...       ...\n",
       "3209    122   910.98        20  35124.90\n",
       "3210     25   190.36         0   3275.61\n",
       "3211     97   634.44        70  13974.06\n",
       "3212     64   462.32        90  31239.78\n",
       "3213     80   566.09         6  29480.52\n",
       "\n",
       "[3214 rows x 4 columns]"
      ]
     },
     "execution_count": 9,
     "metadata": {},
     "output_type": "execute_result"
    }
   ],
   "source": [
    "features"
   ]
  },
  {
   "cell_type": "markdown",
   "metadata": {},
   "source": [
    "The features regarding this model are the calls, minutes, messages, and mb_used. These are the features because they all invovle variables that can affect which plan is better"
   ]
  },
  {
   "cell_type": "code",
   "execution_count": 10,
   "metadata": {},
   "outputs": [
    {
     "data": {
      "text/plain": [
       "0       0\n",
       "1       0\n",
       "2       0\n",
       "3       1\n",
       "4       0\n",
       "       ..\n",
       "3209    1\n",
       "3210    0\n",
       "3211    0\n",
       "3212    0\n",
       "3213    1\n",
       "Name: is_ultra, Length: 3214, dtype: int64"
      ]
     },
     "execution_count": 10,
     "metadata": {},
     "output_type": "execute_result"
    }
   ],
   "source": [
    "target"
   ]
  },
  {
   "cell_type": "markdown",
   "metadata": {},
   "source": [
    "Since we are trying to figure out which plan is better, we will use the plan column as our target"
   ]
  },
  {
   "cell_type": "markdown",
   "metadata": {},
   "source": [
    "Split into Validation and Training sets to test multiple models"
   ]
  },
  {
   "cell_type": "code",
   "execution_count": 11,
   "metadata": {},
   "outputs": [],
   "source": [
    "features_train, features_test, target_train, target_test = train_test_split(\n",
    "    features, target, test_size=0.2, random_state=42)\n",
    "\n",
    "features_train, features_valid, target_train, target_valid = train_test_split(\n",
    "    features_train, target_train, test_size=0.25, random_state=42)"
   ]
  },
  {
   "cell_type": "code",
   "execution_count": 12,
   "metadata": {},
   "outputs": [
    {
     "name": "stdout",
     "output_type": "stream",
     "text": [
      "(1928, 4)\n",
      "(1928,)\n",
      "(643, 4)\n",
      "(643,)\n"
     ]
    }
   ],
   "source": [
    "print(features_train.shape)\n",
    "print(target_train.shape)\n",
    "print(features_valid.shape)\n",
    "print(target_valid.shape)"
   ]
  },
  {
   "cell_type": "code",
   "execution_count": 13,
   "metadata": {},
   "outputs": [
    {
     "name": "stdout",
     "output_type": "stream",
     "text": [
      "Accuracy = DecisionTreeClassifier(max_depth=4, random_state=42) : 0.7807153965785381\n",
      "Accuracy = DecisionTreeClassifier(max_depth=5, random_state=42) : 0.7713841368584758\n",
      "Accuracy = DecisionTreeClassifier(max_depth=6, random_state=42) : 0.7791601866251944\n",
      "Accuracy = DecisionTreeClassifier(max_depth=7, random_state=42) : 0.7884914463452566\n",
      "Accuracy = DecisionTreeClassifier(max_depth=8, random_state=42) : 0.7713841368584758\n",
      "Accuracy = DecisionTreeClassifier(max_depth=9, random_state=42) : 0.7853810264385692\n"
     ]
    }
   ],
   "source": [
    "for depth in range(4,10):\n",
    "    model = DecisionTreeClassifier(random_state=42, max_depth=depth)\n",
    "    model.fit(features_train,target_train)\n",
    "    predictions_valid = model.predict(features_valid)\n",
    "    print(\"Accuracy =\", model, \": \", end='')\n",
    "    print(accuracy_score(target_valid, predictions_valid))"
   ]
  },
  {
   "cell_type": "code",
   "execution_count": 14,
   "metadata": {},
   "outputs": [
    {
     "name": "stdout",
     "output_type": "stream",
     "text": [
      "Accuracy = RandomForestClassifier(n_estimators=20, random_state=42) :0.776049766718507\n",
      "Accuracy = RandomForestClassifier(n_estimators=21, random_state=42) :0.7822706065318819\n",
      "Accuracy = RandomForestClassifier(n_estimators=22, random_state=42) :0.7884914463452566\n",
      "Accuracy = RandomForestClassifier(n_estimators=23, random_state=42) :0.7838258164852255\n",
      "Accuracy = RandomForestClassifier(n_estimators=24, random_state=42) :0.7869362363919129\n",
      "Accuracy = RandomForestClassifier(n_estimators=25, random_state=42) :0.7838258164852255\n",
      "Accuracy = RandomForestClassifier(n_estimators=26, random_state=42) :0.7822706065318819\n",
      "Accuracy = RandomForestClassifier(n_estimators=27, random_state=42) :0.7869362363919129\n",
      "Accuracy = RandomForestClassifier(n_estimators=28, random_state=42) :0.7869362363919129\n",
      "Accuracy = RandomForestClassifier(n_estimators=29, random_state=42) :0.7822706065318819\n",
      "Accuracy = RandomForestClassifier(n_estimators=30, random_state=42) :0.7869362363919129\n",
      "Accuracy = RandomForestClassifier(n_estimators=31, random_state=42) :0.7916018662519441\n",
      "Accuracy = RandomForestClassifier(n_estimators=32, random_state=42) :0.7916018662519441\n",
      "Accuracy = RandomForestClassifier(n_estimators=33, random_state=42) :0.7900466562986003\n",
      "Accuracy = RandomForestClassifier(n_estimators=34, random_state=42) :0.7916018662519441\n",
      "Accuracy = RandomForestClassifier(n_estimators=35, random_state=42) :0.7916018662519441\n",
      "Accuracy = RandomForestClassifier(n_estimators=36, random_state=42) :0.7884914463452566\n",
      "Accuracy = RandomForestClassifier(n_estimators=37, random_state=42) :0.7869362363919129\n",
      "Accuracy = RandomForestClassifier(n_estimators=38, random_state=42) :0.7853810264385692\n",
      "Accuracy = RandomForestClassifier(n_estimators=39, random_state=42) :0.7853810264385692\n",
      "Accuracy = RandomForestClassifier(n_estimators=40, random_state=42) :0.7822706065318819\n",
      "Accuracy = RandomForestClassifier(n_estimators=41, random_state=42) :0.7822706065318819\n",
      "Accuracy = RandomForestClassifier(n_estimators=42, random_state=42) :0.7853810264385692\n",
      "Accuracy = RandomForestClassifier(n_estimators=43, random_state=42) :0.7884914463452566\n",
      "Accuracy = RandomForestClassifier(n_estimators=44, random_state=42) :0.7869362363919129\n",
      "Accuracy = RandomForestClassifier(n_estimators=45, random_state=42) :0.7869362363919129\n",
      "Accuracy = RandomForestClassifier(n_estimators=46, random_state=42) :0.7900466562986003\n",
      "Accuracy = RandomForestClassifier(n_estimators=47, random_state=42) :0.7900466562986003\n",
      "Accuracy = RandomForestClassifier(n_estimators=48, random_state=42) :0.7884914463452566\n",
      "Accuracy = RandomForestClassifier(n_estimators=49, random_state=42) :0.7900466562986003\n"
     ]
    }
   ],
   "source": [
    "for est in range(20,50):\n",
    "    model = RandomForestClassifier(random_state=42, n_estimators=est)\n",
    "    model.fit(features_train,target_train)\n",
    "    predictions_valid = model.predict(features_valid)\n",
    "    print('Accuracy =', model, \":\",end='')\n",
    "    print(accuracy_score(target_valid, predictions_valid))"
   ]
  },
  {
   "cell_type": "code",
   "execution_count": 15,
   "metadata": {},
   "outputs": [
    {
     "name": "stdout",
     "output_type": "stream",
     "text": [
      "Logistic Regression Accuracy on the Training Set: 0.7216174183514774\n"
     ]
    }
   ],
   "source": [
    "model = LogisticRegression(random_state=42,solver='liblinear')\n",
    "model.fit(features_train,target_train)\n",
    "print(\"Logistic Regression Accuracy on the Training Set:\",model.score(features_valid,target_valid))"
   ]
  },
  {
   "cell_type": "markdown",
   "metadata": {},
   "source": [
    "The model I would choose to figure out what phone plan is the best is DecisionTreeClassifier. \n",
    "\n",
    "We are trying to figure out which phone plan is the best, and DecisionTreeClassifier has a accuracy on near 81% at a depth of 4. Which is very fast! The reason I would not use the LogisticModel is because of the lower accuracy of 72%, and the RandomForestClassifier gives us great accuracy, but only when we are slowing down the model(creating more trees).\n",
    "\n",
    "If we compare the models at a estimate of 4, we see the DecisionTreeClassifier has a better accuracy for how fast the model is. "
   ]
  },
  {
   "cell_type": "code",
   "execution_count": 16,
   "metadata": {},
   "outputs": [],
   "source": [
    "model = RandomForestClassifier()"
   ]
  },
  {
   "cell_type": "code",
   "execution_count": 17,
   "metadata": {},
   "outputs": [
    {
     "data": {
      "text/plain": [
       "RandomForestClassifier()"
      ]
     },
     "execution_count": 17,
     "metadata": {},
     "output_type": "execute_result"
    }
   ],
   "source": [
    "model.fit(features_train,target_train)"
   ]
  },
  {
   "cell_type": "code",
   "execution_count": 18,
   "metadata": {},
   "outputs": [],
   "source": [
    "model_predictions =  model.predict(features_test)"
   ]
  },
  {
   "cell_type": "code",
   "execution_count": 19,
   "metadata": {},
   "outputs": [
    {
     "name": "stdout",
     "output_type": "stream",
     "text": [
      "0.7993779160186625\n"
     ]
    }
   ],
   "source": [
    "print(accuracy_score(target_test, model_predictions))"
   ]
  },
  {
   "cell_type": "markdown",
   "metadata": {},
   "source": [
    "RandomForest gave us the best accuracy and is recommended to find the best plan, Surf or Ultra. "
   ]
  }
 ],
 "metadata": {
  "kernelspec": {
   "display_name": "Python 3 (ipykernel)",
   "language": "python",
   "name": "python3"
  },
  "language_info": {
   "codemirror_mode": {
    "name": "ipython",
    "version": 3
   },
   "file_extension": ".py",
   "mimetype": "text/x-python",
   "name": "python",
   "nbconvert_exporter": "python",
   "pygments_lexer": "ipython3",
   "version": "3.9.12"
  },
  "toc": {
   "base_numbering": 1,
   "nav_menu": {},
   "number_sections": true,
   "sideBar": true,
   "skip_h1_title": true,
   "title_cell": "Table of Contents",
   "title_sidebar": "Contents",
   "toc_cell": false,
   "toc_position": {},
   "toc_section_display": true,
   "toc_window_display": false
  }
 },
 "nbformat": 4,
 "nbformat_minor": 2
}
